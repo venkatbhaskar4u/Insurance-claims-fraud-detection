# 1. Import Libraries
import pandas as pd
import numpy as np
import matplotlib.pyplot as plt
import seaborn as sns
from sklearn.model_selection import train_test_split
from sklearn.ensemble import RandomForestClassifier
from sklearn.metrics import classification_report, confusion_matrix, roc_auc_score

# 2. Simulate Insurance Claims Data (or load 'insurance_claims.csv')
np.random.seed(42)
n = 1200
data = pd.DataFrame({
    "claim_amount": np.random.gamma(2, 500, n),
    "num_prior_claims": np.random.poisson(2, n),
    "policy_age": np.random.randint(1, 15, n),
    "has_police_report": np.random.binomial(1, 0.4, n),
    "incident_type": np.random.choice(["Collision", "Break-in", "Theft", "Natural Disaster"], size=n),
    "claim_type": np.random.choice(["Vehicle", "Property"], size=n)
})
data["is_fraud"] = ((data.claim_amount > 1200) & (data.num_prior_claims > 3) & (data.has_police_report==0)).astype(int)

# 3. EDA - Distribution Plots
fig, axs = plt.subplots(2, 2, figsize=(12, 8))
sns.histplot(data.claim_amount, bins=30, ax=axs[0,0], kde=True)
axs[0,0].set_title("Claim Amount Distribution")
sns.countplot(x="incident_type", data=data, ax=axs[0,1])
axs[0,1].set_title("Incident Type Counts")
sns.boxplot(x="is_fraud", y="claim_amount", data=data, ax=axs[1,0])
axs[1,0].set_title("Claim Amount by Fraud Status")
sns.scatterplot(x="policy_age", y="claim_amount", data=data, hue="is_fraud", ax=axs[1,1])
axs[1,1].set_title("Policy Age vs Claim Amount")
plt.tight_layout()
plt.show()

# 4. Data Wrangling & Feature Engineering
data["incident_type_cat"] = data["incident_type"].astype("category").cat.codes
data["claim_type_cat"] = data["claim_type"].astype("category").cat.codes
features = ["claim_amount", "num_prior_claims", "policy_age", "has_police_report", "incident_type_cat", "claim_type_cat"]

X = data[features]
y = data["is_fraud"]

# 5. Train-Test Split
X_train, X_test, y_train, y_test = train_test_split(X, y, stratify=y, random_state=0, test_size=0.3)

# 6. Modeling
model = RandomForestClassifier(n_estimators=80, random_state=42)
model.fit(X_train, y_train)
y_pred = model.predict(X_test)
y_prob = model.predict_proba(X_test)[:,1]

# 7. Results & Evaluation
print("\nClassification Report:\n", classification_report(y_test, y_pred))
print("Confusion Matrix:\n", confusion_matrix(y_test, y_pred))
print("ROC-AUC:", roc_auc_score(y_test, y_prob))

# 8. Visualization: Feature Importance & Fraud Probability
imp = pd.DataFrame({"feature": features, "importance": model.feature_importances_}).sort_values("importance", ascending=False)
sns.barplot(x="importance", y="feature", data=imp)
plt.title("Feature Importances")
plt.show()

plt.figure(figsize=(6,4))
sns.histplot(y_prob, kde=True, bins=20)
plt.title("Predicted Fraud Probability Distribution")
plt.xlabel("Probability of Fraud")
plt.show()

# 9. Optional: Sample Prediction Output
sample = X_test.iloc[:5]
print("Sample predictions:", model.predict(sample))
